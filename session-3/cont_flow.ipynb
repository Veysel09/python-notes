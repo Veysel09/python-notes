{
 "cells": [
  {
   "cell_type": "code",
   "execution_count": null,
   "metadata": {},
   "outputs": [],
   "source": [
    "# Make a burger\n",
    "\n",
    "meat = False\n",
    "bread = True\n",
    "lettuce = False\n",
    "pepper = True\n",
    "grocery = True\n",
    "\n",
    "hamburger = (meat and bread and grocery) and (lettuce or pepper) \n",
    "\n",
    "if hamburger:\n",
    "    print('Bon Appetit')\n",
    "else:\n",
    "    print('You cant make burger with this..')"
   ]
  },
  {
   "cell_type": "code",
   "execution_count": null,
   "metadata": {},
   "outputs": [],
   "source": [
    "a = set('TWELVE PLUS ONE')\n",
    "b = set('ELEVEN PLUS TWO')\n",
    "\n",
    "\n",
    "if a == b:\n",
    "    print('Equal!')"
   ]
  },
  {
   "cell_type": "code",
   "execution_count": null,
   "metadata": {},
   "outputs": [],
   "source": [
    "course = ' ClArusWay   '\n",
    "\n",
    "if course.strip().title() == 'Clarusway':\n",
    "    print('ok')\n",
    "else:\n",
    "    print('not ok')"
   ]
  },
  {
   "cell_type": "code",
   "execution_count": null,
   "metadata": {},
   "outputs": [],
   "source": [
    "num = int(input('Please enter a number: '))\n",
    "\n",
    "if num % 2:\n",
    "    print(f'{num} is odd.')\n",
    "else:\n",
    "    print(f'{num} is even.')\n",
    "    "
   ]
  },
  {
   "cell_type": "code",
   "execution_count": null,
   "metadata": {},
   "outputs": [],
   "source": [
    "num1 = int(input('Please enter a number: '))\n",
    "num2 = int(input('Please enter a number: '))\n",
    "num3 = int(input('Please enter a number: '))\n",
    "\n",
    "if num1 > num2 and num1 > num3:\n",
    "    print(f\"{num1} is the biggest\")\n",
    "elif num2 > num1 and num2 > num3:\n",
    "    print(f\"{num2} is the biggest\")\n",
    "else:\n",
    "    print(f\"{num3} is the biggest\")\n"
   ]
  },
  {
   "cell_type": "code",
   "execution_count": null,
   "metadata": {},
   "outputs": [],
   "source": [
    "score = int(input('Enter your score:'))\n",
    "\n",
    "if score >= 90:\n",
    "    if score >= 95:\n",
    "        print('A+')\n",
    "    else:\n",
    "        print('A')\n",
    "elif score >= 80:\n",
    "    if score >= 85:\n",
    "        print('B+')\n",
    "    else:\n",
    "        print('B')\n",
    "else:\n",
    "    print('B-')"
   ]
  }
 ],
 "metadata": {
  "kernelspec": {
   "display_name": "Python 3",
   "language": "python",
   "name": "python3"
  },
  "language_info": {
   "name": "python",
   "version": "3.11.1 (tags/v3.11.1:a7a450f, Dec  6 2022, 19:58:39) [MSC v.1934 64 bit (AMD64)]"
  },
  "orig_nbformat": 4,
  "vscode": {
   "interpreter": {
    "hash": "e6f666fea3925c79e8949fd620a4be02554d4129441580082e4d198b6e00f46b"
   }
  }
 },
 "nbformat": 4,
 "nbformat_minor": 2
}
