{
 "cells": [
  {
   "cell_type": "code",
   "execution_count": 1,
   "metadata": {},
   "outputs": [
    {
     "name": "stdout",
     "output_type": "stream",
     "text": [
      "Your age is 8\n"
     ]
    }
   ],
   "source": [
    "age = input('Enter your age: ')\n",
    "\n",
    "\n",
    "while not age.isnumeric():  # (0-9)\n",
    "    print('Pleae enter corret data')\n",
    "    age = input('Enter your age: ')\n",
    "\n",
    "print(f'Your age is {age}')\n",
    "    "
   ]
  },
  {
   "cell_type": "code",
   "execution_count": 1,
   "metadata": {},
   "outputs": [
    {
     "name": "stdout",
     "output_type": "stream",
     "text": [
      "Seni dövcem nasıl beni geçersin\n",
      "Seni dövcem nasıl beni geçersin\n",
      "Aferinnnn\n"
     ]
    }
   ],
   "source": [
    "my_number = 15\n",
    "# is_true = True\n",
    "while True:  # while is_true:\n",
    "    your_number = int(input('Enter your number: '))\n",
    "    \n",
    "    if your_number > my_number:\n",
    "        print('Seni dövcem nasıl beni geçersin')\n",
    "    elif your_number < my_number:\n",
    "        print('nasıl geçemedin asıl şimdi dövcem')\n",
    "    else:\n",
    "        print('Aferinnnn')\n",
    "        break"
   ]
  },
  {
   "cell_type": "code",
   "execution_count": null,
   "metadata": {},
   "outputs": [],
   "source": [
    "a = 'istanbul, ankara, muşşşşşşşşşşşşşş'\n",
    "word_list = a.split(', ')\n",
    "\n",
    "i = 0\n",
    "longest = 0\n",
    "\n",
    "while i < len(word_list):\n",
    "    print(word_list[i] , len(word_list[i]))\n",
    "    if len(word_list[i]) > longest:\n",
    "        longest = len(word_list[i])\n",
    "        print(longest)\n",
    "    i += 1\n",
    "print(longest)"
   ]
  },
  {
   "cell_type": "code",
   "execution_count": null,
   "metadata": {},
   "outputs": [],
   "source": [
    "num_list = []\n",
    "\n",
    "for i in range(3, 8): # 1-5 / 3-7\n",
    "    num_list.append(i)\n",
    "    print(num_list)\n",
    "\n",
    "print(num_list)"
   ]
  },
  {
   "cell_type": "code",
   "execution_count": null,
   "metadata": {},
   "outputs": [],
   "source": [
    "input = 'clarusway'  # range(8)\n",
    "\n",
    "word = ''\n",
    "\n",
    "for i in range(len(input)): \n",
    "    if i == 0:\n",
    "        word += input[i]\n",
    "    else:\n",
    "        word += '-' + input[i]\n",
    "print(word)"
   ]
  },
  {
   "cell_type": "code",
   "execution_count": null,
   "metadata": {},
   "outputs": [],
   "source": [
    "user = {\n",
    "    'name': 'Henry',\n",
    "    'surname': 'Frstr',\n",
    "    'age': 38\n",
    "}\n",
    "\n",
    "for i in user.values():\n",
    "    print(i, end='\\t')"
   ]
  },
  {
   "cell_type": "code",
   "execution_count": null,
   "metadata": {},
   "outputs": [],
   "source": [
    "a_list = list(range(5,26,5))\n",
    "print(a_list)"
   ]
  },
  {
   "cell_type": "code",
   "execution_count": null,
   "metadata": {},
   "outputs": [],
   "source": [
    "a = ['bir', 'iki', 'üç']\n",
    "b = [1, 2, 3]\n",
    "c = dict(zip(b, a))\n",
    "print(c)"
   ]
  }
 ],
 "metadata": {
  "kernelspec": {
   "display_name": "Python 3",
   "language": "python",
   "name": "python3"
  },
  "language_info": {
   "codemirror_mode": {
    "name": "ipython",
    "version": 3
   },
   "file_extension": ".py",
   "mimetype": "text/x-python",
   "name": "python",
   "nbconvert_exporter": "python",
   "pygments_lexer": "ipython3",
   "version": "3.11.1"
  },
  "orig_nbformat": 4,
  "vscode": {
   "interpreter": {
    "hash": "e6f666fea3925c79e8949fd620a4be02554d4129441580082e4d198b6e00f46b"
   }
  }
 },
 "nbformat": 4,
 "nbformat_minor": 2
}
