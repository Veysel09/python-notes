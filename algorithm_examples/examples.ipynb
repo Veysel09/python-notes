{
 "cells": [
  {
   "cell_type": "code",
   "execution_count": 1,
   "metadata": {},
   "outputs": [
    {
     "name": "stdout",
     "output_type": "stream",
     "text": [
      "15 sayısı 5'in katıdır.\n",
      "85 sayısı 5'in katıdır.\n",
      "65 sayısı 5'in katıdır.\n",
      "30 sayısı 5'in katıdır.\n",
      "95 sayısı 5'in katıdır.\n",
      "10 sayısı 5'in katıdır.\n",
      "20 sayısı 5'in katıdır.\n",
      "55 sayısı 5'in katıdır.\n",
      "5 sayısı 5'in katıdır.\n",
      "5'in katı olan sayı adeti : 9\n"
     ]
    }
   ],
   "source": [
    "# Önceden belirlenen bir liste içerisinde bulunan sayılardan kaç tanesinin 5’in katı olduğunu bulan python kodunu yazınız.\n",
    "\n",
    "\n",
    "sayilar = [18,15,22,19,85,32,65,30,95,10,12,20,32,55,34,28,101,5,4,32]\n",
    "sayac=0 \n",
    "for sayi in sayilar:\n",
    "  if sayi%5 == 0:\n",
    "    print ( \"{} sayısı 5'in katıdır.\".format(sayi))\n",
    "    sayac=sayac+1\n",
    " \n",
    "print(\"5'in katı olan sayı adeti : \"+str(sayac))"
   ]
  },
  {
   "cell_type": "code",
   "execution_count": 2,
   "metadata": {},
   "outputs": [
    {
     "name": "stdout",
     "output_type": "stream",
     "text": [
      "Ödemeniz Gereken Ücret:  32\n"
     ]
    }
   ],
   "source": [
    "# Örnek 36:  Örnek :Bir otoparkın ücret tarifesi aşağıdaki gibidir:\n",
    "\n",
    "# 1 saate kadar: 10 TL\n",
    "# 1-5 saat arası: Saat başı 8 TL\n",
    "# 5 saatten fazla: Saat başı 6 TL\n",
    "# Buna göre kullanıcının girdiği otoparkta kalınan saat süresine göre ödenecek miktarı bularak ekrana yazdırınız.\n",
    "\n",
    "\n",
    "saat = int(input(\"Kaldiniginiz Süreyi Girin:\"))\n",
    " \n",
    "ucret = 0\n",
    " \n",
    "if saat <= 1:\n",
    "  ucret = 10\n",
    "elif saat <= 5:\n",
    "  ucret = 8 * saat\n",
    "else:\n",
    "  ucret = 6 * saat\n",
    " \n",
    "print(\"Ödemeniz Gereken Ücret: \",ucret)\n"
   ]
  },
  {
   "cell_type": "code",
   "execution_count": 3,
   "metadata": {},
   "outputs": [
    {
     "name": "stdout",
     "output_type": "stream",
     "text": [
      "Girdiğiniz Sayilar: 32,58,69,21,22,78,45\n",
      "GİRDİGİNİZ SAYILARIN TOPLAMI:325.00 \n"
     ]
    }
   ],
   "source": [
    "# Klavyeden aralarına virgül konularak yazılan tüm sayıları toplayan python kodunu yazınız./\n",
    "\n",
    "\n",
    "\n",
    "numaralar = input(\"Virgül ile sayilari giriniz.: \")\n",
    " \n",
    "print(\"Girdiğiniz Sayilar: {0}\".format(numaralar))\n",
    " \n",
    "numaralarArr = numaralar.split(\",\")\n",
    "toplam = 0\n",
    "for n in numaralarArr:\n",
    "    toplam = toplam + int(n)\n",
    " \n",
    "print(\"GİRDİGİNİZ SAYILARIN TOPLAMI:{0:.2f} \".format(toplam))\n"
   ]
  },
  {
   "cell_type": "code",
   "execution_count": 4,
   "metadata": {},
   "outputs": [
    {
     "name": "stdout",
     "output_type": "stream",
     "text": [
      "5\n",
      "10\n",
      "15\n",
      "20\n",
      "25\n",
      "30\n",
      "35\n",
      "40\n",
      "45\n",
      "50\n",
      "55\n",
      "60\n",
      "65\n",
      "70\n",
      "75\n",
      "80\n",
      "85\n",
      "90\n",
      "95\n"
     ]
    }
   ],
   "source": [
    "#  Klavyeden başlangıç değeri, bitiş değeri ve artış miktarı girilen sayıları alt alta yazdıran python kodunu yazınız.\n",
    "\n",
    "\n",
    "birinciSayi = int(input(\"Başlangiç değerini girin:\"));\n",
    "ikinciSayi = int(input(\"Bitiş Değerini girin :\"));\n",
    "adim = int(input(\"Artiş Miktarini Girin :\"));\n",
    " \n",
    "for i in range(birinciSayi, ikinciSayi, adim):\n",
    "    print(i)"
   ]
  },
  {
   "cell_type": "code",
   "execution_count": 5,
   "metadata": {},
   "outputs": [
    {
     "name": "stdout",
     "output_type": "stream",
     "text": [
      "50  sayisina kadar olan çift sayilarin toplami:  650\n"
     ]
    }
   ],
   "source": [
    "#  Klavyeden girilen sayıya kadar olan çift sayıların toplamını hesaplayan ve sonucu yazdıran python kodunu while döngüsü kullanarak yapan kodunu yazınız.\n",
    "\n",
    "\n",
    "\n",
    "\n",
    "\n",
    "sayac = 0\n",
    "toplam = 0\n",
    "bitis=int(input(\"Bir Sayi Giriniz: \"))\n",
    "while sayac <= bitis:\n",
    "    toplam = toplam + sayac\n",
    "    sayac = sayac + 2\n",
    " \n",
    "print(bitis,\" sayisina kadar olan çift sayilarin toplami: \",toplam)"
   ]
  }
 ],
 "metadata": {
  "kernelspec": {
   "display_name": "Python 3",
   "language": "python",
   "name": "python3"
  },
  "language_info": {
   "codemirror_mode": {
    "name": "ipython",
    "version": 3
   },
   "file_extension": ".py",
   "mimetype": "text/x-python",
   "name": "python",
   "nbconvert_exporter": "python",
   "pygments_lexer": "ipython3",
   "version": "3.11.1"
  },
  "orig_nbformat": 4,
  "vscode": {
   "interpreter": {
    "hash": "e6f666fea3925c79e8949fd620a4be02554d4129441580082e4d198b6e00f46b"
   }
  }
 },
 "nbformat": 4,
 "nbformat_minor": 2
}
