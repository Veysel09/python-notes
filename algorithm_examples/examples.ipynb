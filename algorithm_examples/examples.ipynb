{
 "cells": [
  {
   "cell_type": "code",
   "execution_count": 1,
   "metadata": {},
   "outputs": [
    {
     "name": "stdout",
     "output_type": "stream",
     "text": [
      "15 sayısı 5'in katıdır.\n",
      "85 sayısı 5'in katıdır.\n",
      "65 sayısı 5'in katıdır.\n",
      "30 sayısı 5'in katıdır.\n",
      "95 sayısı 5'in katıdır.\n",
      "10 sayısı 5'in katıdır.\n",
      "20 sayısı 5'in katıdır.\n",
      "55 sayısı 5'in katıdır.\n",
      "5 sayısı 5'in katıdır.\n",
      "5'in katı olan sayı adeti : 9\n"
     ]
    }
   ],
   "source": [
    "# Önceden belirlenen bir liste içerisinde bulunan sayılardan kaç tanesinin 5’in katı olduğunu bulan python kodunu yazınız.\n",
    "\n",
    "\n",
    "sayilar = [18,15,22,19,85,32,65,30,95,10,12,20,32,55,34,28,101,5,4,32]\n",
    "sayac=0 \n",
    "for sayi in sayilar:\n",
    "  if sayi%5 == 0:\n",
    "    print ( \"{} sayısı 5'in katıdır.\".format(sayi))\n",
    "    sayac=sayac+1\n",
    " \n",
    "print(\"5'in katı olan sayı adeti : \"+str(sayac))"
   ]
  }
 ],
 "metadata": {
  "kernelspec": {
   "display_name": "Python 3",
   "language": "python",
   "name": "python3"
  },
  "language_info": {
   "codemirror_mode": {
    "name": "ipython",
    "version": 3
   },
   "file_extension": ".py",
   "mimetype": "text/x-python",
   "name": "python",
   "nbconvert_exporter": "python",
   "pygments_lexer": "ipython3",
   "version": "3.11.1"
  },
  "orig_nbformat": 4,
  "vscode": {
   "interpreter": {
    "hash": "e6f666fea3925c79e8949fd620a4be02554d4129441580082e4d198b6e00f46b"
   }
  }
 },
 "nbformat": 4,
 "nbformat_minor": 2
}
